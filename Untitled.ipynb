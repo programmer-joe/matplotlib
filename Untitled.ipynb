{
 "cells": [
  {
   "cell_type": "code",
   "execution_count": 1,
   "metadata": {},
   "outputs": [],
   "source": [
    "import matplotlib.pyplot as plt\n"
   ]
  },
  {
   "cell_type": "code",
   "execution_count": 1,
   "metadata": {},
   "outputs": [
    {
     "ename": "ModuleNotFoundError",
     "evalue": "No module named 'matplotlib.finance'",
     "output_type": "error",
     "traceback": [
      "\u001b[1;31m---------------------------------------------------------------------------\u001b[0m",
      "\u001b[1;31mModuleNotFoundError\u001b[0m                       Traceback (most recent call last)",
      "\u001b[1;32m<ipython-input-1-eab6e0bd9ee6>\u001b[0m in \u001b[0;36m<module>\u001b[1;34m\u001b[0m\n\u001b[0;32m      2\u001b[0m \u001b[1;32mfrom\u001b[0m \u001b[0mmatplotlib\u001b[0m\u001b[1;33m.\u001b[0m\u001b[0mdates\u001b[0m \u001b[1;32mimport\u001b[0m \u001b[0mdate2num\u001b[0m\u001b[1;33m\u001b[0m\u001b[1;33m\u001b[0m\u001b[0m\n\u001b[0;32m      3\u001b[0m \u001b[1;32mimport\u001b[0m \u001b[0mmatplotlib\u001b[0m\u001b[1;33m.\u001b[0m\u001b[0mpyplot\u001b[0m \u001b[1;32mas\u001b[0m \u001b[0mplt\u001b[0m\u001b[1;33m\u001b[0m\u001b[1;33m\u001b[0m\u001b[0m\n\u001b[1;32m----> 4\u001b[1;33m \u001b[1;32mfrom\u001b[0m \u001b[0mmatplotlib\u001b[0m\u001b[1;33m.\u001b[0m\u001b[0mfinance\u001b[0m \u001b[1;32mimport\u001b[0m \u001b[0mcandlestick_ohlc\u001b[0m\u001b[1;33m\u001b[0m\u001b[1;33m\u001b[0m\u001b[0m\n\u001b[0m\u001b[0;32m      5\u001b[0m \u001b[1;33m\u001b[0m\u001b[0m\n\u001b[0;32m      6\u001b[0m \u001b[0mf\u001b[0m \u001b[1;33m=\u001b[0m \u001b[0mopen\u001b[0m\u001b[1;33m(\u001b[0m\u001b[1;34m\"AAPL.csv\"\u001b[0m\u001b[1;33m,\u001b[0m\u001b[1;34m'r'\u001b[0m\u001b[1;33m)\u001b[0m\u001b[1;33m\u001b[0m\u001b[1;33m\u001b[0m\u001b[0m\n",
      "\u001b[1;31mModuleNotFoundError\u001b[0m: No module named 'matplotlib.finance'"
     ]
    }
   ],
   "source": [
    "from datetime import datetime\n",
    "from matplotlib.dates import date2num\n",
    "import matplotlib.pyplot as plt\n",
    "from matplotlib.finance import candlestick_ohlc\n",
    "\n",
    "f = open(\"AAPL.csv\",'r')\n",
    "\n",
    "data = {}\n",
    "\n",
    "header = f.readline()\n",
    "print(header)\n",
    "\n",
    "header = header.strip(\"\\n\")\n",
    "print(header)\n",
    "header = header.split(\",\")\n",
    "print(header)\n",
    "for name in header:\n",
    "    data[name] = []\n",
    "\n",
    "for line in f:\n",
    "    line = line.strip(\"\\n\").split(\",\")\n",
    "\n",
    "    date = [int(x) for x in line[0].split(\"-\")]\n",
    "    date = datetime(date[0],date[1],date[2])\n",
    "    date = date2num(date)\n",
    "    data[\"Date\"].append(line [0])\n",
    "    data[\"Open\"].append(line[1])\n",
    "    data[\"High\"].append(line[2])\n",
    "    data[\"Low\"].append(line[3])\n",
    "    data[\"Close\"].append(line[4])\n",
    "    data[\"Volume\"].append(line[5])\n",
    "    data[\"Adj Close\"].append(line[6])\n",
    "\n",
    "print(data)\n",
    "f.close()\n",
    "fig = plt.figure()\n",
    "ax = plt.subplot()\n",
    "plotData = []\n",
    "for i in range(len(data[\"Date\"])):\n",
    "    tempData = [data['Date'][i],data['Open'][i],data['High'][i],data['Low'][i],data['Close'][i],data['Volume'][i],data['Adj close'][i]]\n",
    "    plotData.append(tempData)\n",
    "candlestick_ohlc(ax,plotData)\n",
    "plt.show()"
   ]
  },
  {
   "cell_type": "code",
   "execution_count": null,
   "metadata": {},
   "outputs": [],
   "source": [
    "!pip install matplotlib.pyplot\n",
    "!pip install matplotlib.finance"
   ]
  }
 ],
 "metadata": {
  "kernelspec": {
   "display_name": "Python 3",
   "language": "python",
   "name": "python3"
  },
  "language_info": {
   "codemirror_mode": {
    "name": "ipython",
    "version": 3
   },
   "file_extension": ".py",
   "mimetype": "text/x-python",
   "name": "python",
   "nbconvert_exporter": "python",
   "pygments_lexer": "ipython3",
   "version": "3.7.6"
  }
 },
 "nbformat": 4,
 "nbformat_minor": 4
}
